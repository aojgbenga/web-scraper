{
 "cells": [
  {
   "cell_type": "code",
   "execution_count": null,
   "metadata": {},
   "outputs": [],
   "source": []
  },
  {
   "cell_type": "code",
   "execution_count": 1,
   "metadata": {},
   "outputs": [],
   "source": [
    "import requests\n",
    "from bs4 import BeautifulSoup\n",
    "import pandas as pd\n"
   ]
  },
  {
   "cell_type": "code",
   "execution_count": 2,
   "metadata": {},
   "outputs": [
    {
     "name": "stdout",
     "output_type": "stream",
     "text": [
      "Successfully fetched the web page\n"
     ]
    }
   ],
   "source": [
    "url = 'https://en.wikipedia.org/wiki/List_of_countries_by_GDP_(nominal)'\n",
    "response = requests.get(url)\n",
    "\n",
    "if response.status_code == 200:\n",
    "    print(\"Successfully fetched the web page\")\n",
    "else:\n",
    "    print(\"Failed to fetch the web page\")\n"
   ]
  },
  {
   "cell_type": "code",
   "execution_count": 3,
   "metadata": {},
   "outputs": [],
   "source": [
    "soup = BeautifulSoup(response.content, 'html.parser')"
   ]
  },
  {
   "cell_type": "code",
   "execution_count": 5,
   "metadata": {},
   "outputs": [],
   "source": [
    "table = soup.find('table', {'class': 'wikitable'})"
   ]
  },
  {
   "cell_type": "code",
   "execution_count": 6,
   "metadata": {},
   "outputs": [],
   "source": [
    "# Extract table headers considering colspan\n",
    "headers = []\n",
    "for header in table.find_all('tr')[0].find_all('th'):\n",
    "    text = header.get_text(strip=True)\n",
    "    colspan = int(header.get('colspan', '1'))\n",
    "    if colspan > 1:\n",
    "        for i in range(colspan):\n",
    "            headers.append(f\"{text} {i+1}\")\n",
    "    else:\n",
    "        headers.append(text)"
   ]
  },
  {
   "cell_type": "code",
   "execution_count": 7,
   "metadata": {},
   "outputs": [],
   "source": [
    "# Extract table rows\n",
    "rows = []\n",
    "for row in table.find_all('tr')[1:]:  # Skip the header row\n",
    "    cells = row.find_all(['td', 'th'])\n",
    "    cells = [cell.get_text(strip=True) for cell in cells]\n",
    "    rows.append(cells)"
   ]
  },
  {
   "cell_type": "code",
   "execution_count": 8,
   "metadata": {},
   "outputs": [],
   "source": [
    "# Adjust rows if their length doesn't match header length\n",
    "for i in range(len(rows)):\n",
    "    if len(rows[i]) < len(headers):\n",
    "        rows[i] += [''] * (len(headers) - len(rows[i]))\n",
    "    elif len(rows[i]) > len(headers):\n",
    "        rows[i] = rows[i][:len(headers)]\n",
    "\n",
    "df = pd.DataFrame(rows, columns=headers)"
   ]
  },
  {
   "cell_type": "code",
   "execution_count": 9,
   "metadata": {},
   "outputs": [
    {
     "name": "stdout",
     "output_type": "stream",
     "text": [
      "  Country/Territory UN region IMF[1][13] 1 IMF[1][13] 2 World Bank[14] 1  \\\n",
      "0          Forecast      Year     Estimate         Year         Estimate   \n",
      "1             World         —  109,529,216         2024      100,562,011   \n",
      "2     United States  Americas   28,781,083         2024       25,462,700   \n",
      "3             China      Asia   18,532,633    [n 1]2024       17,963,171   \n",
      "4           Germany    Europe    4,591,100         2024        4,072,192   \n",
      "5             Japan      Asia    4,110,452         2024        4,231,141   \n",
      "6             India      Asia    3,937,011         2024        3,385,090   \n",
      "7    United Kingdom    Europe    3,495,261         2024        3,070,668   \n",
      "8            France    Europe    3,130,014         2024        2,782,905   \n",
      "9            Brazil  Americas    2,331,391         2024        1,920,096   \n",
      "\n",
      "  World Bank[14] 2 United Nations[15] 1 United Nations[15] 2  \n",
      "0             Year                                            \n",
      "1             2022           96,698,005                 2021  \n",
      "2             2022           23,315,081                 2021  \n",
      "3        [n 3]2022           17,734,131            [n 1]2021  \n",
      "4             2022            4,259,935                 2021  \n",
      "5             2022            4,940,878                 2021  \n",
      "6             2022            3,201,471                 2021  \n",
      "7             2022            3,131,378                 2021  \n",
      "8             2022            2,957,880                 2021  \n",
      "9             2022            1,608,981                 2021  \n"
     ]
    }
   ],
   "source": [
    "print(df.head(10))  # Display first 10 rows for inspection"
   ]
  },
  {
   "cell_type": "code",
   "execution_count": 10,
   "metadata": {},
   "outputs": [],
   "source": [
    "df.to_csv('countries_gdp.csv', index=False)"
   ]
  }
 ],
 "metadata": {
  "kernelspec": {
   "display_name": "Python 3",
   "language": "python",
   "name": "python3"
  },
  "language_info": {
   "codemirror_mode": {
    "name": "ipython",
    "version": 3
   },
   "file_extension": ".py",
   "mimetype": "text/x-python",
   "name": "python",
   "nbconvert_exporter": "python",
   "pygments_lexer": "ipython3",
   "version": "3.11.9"
  }
 },
 "nbformat": 4,
 "nbformat_minor": 2
}
